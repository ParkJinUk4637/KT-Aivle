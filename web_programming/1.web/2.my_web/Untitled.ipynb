{
 "cells": [
  {
   "cell_type": "markdown",
   "id": "627342b1",
   "metadata": {},
   "source": [
    "### javascript를 이용한 html element 다루기\n",
    "\n",
    "- html selecting\n",
    "- 아이디 : # : document.getElementById()\n",
    "- 클래스 : . : document.getElementByClassName()\n",
    "- 셀렉터 : css selector : document.querySelector()"
   ]
  },
  {
   "cell_type": "code",
   "execution_count": 9,
   "id": "02878460",
   "metadata": {},
   "outputs": [
    {
     "data": {
      "text/html": [
       "<input id='no1' type='text' value='kt aivle 1'>\n",
       "<input id='no2' type='text' value='kt aivle 2'>\n",
       "<script>\n",
       "    var element = document.querySelector('#no1');\n",
       "    var element2 = document.querySelector('#no2');\n",
       "    console.log(element.value);\n",
       "    alert(element2.value);\n",
       "</script>\n"
      ],
      "text/plain": [
       "<IPython.core.display.HTML object>"
      ]
     },
     "metadata": {},
     "output_type": "display_data"
    }
   ],
   "source": [
    "%%html\n",
    "<input id='no1' type='text' value='kt aivle 1'>\n",
    "<input id='no2' type='text' value='kt aivle 2'>\n",
    "<script>\n",
    "    var element = document.querySelector('#no1');\n",
    "    var element2 = document.querySelector('#no2');\n",
    "    console.log(element.value);\n",
    "    alert(element2.value);\n",
    "</script>"
   ]
  },
  {
   "cell_type": "markdown",
   "id": "afd414eb",
   "metadata": {},
   "source": [
    "### javascript를 이용한 Event 다루기\n",
    "- element.addEventListener()"
   ]
  },
  {
   "cell_type": "code",
   "execution_count": 11,
   "id": "f3af000c",
   "metadata": {},
   "outputs": [
    {
     "data": {
      "text/html": [
       "<input id ='no3' type='text'></input>\n",
       "<button id = 'btn'>Click</button>\n",
       "<script>\n",
       "    var btnElement = document.querySelector('#btn');\n",
       "    btnElement.addEventListener('click',function(){\n",
       "        var msg = document.querySelector('#no3').value;\n",
       "        console.log(msg);\n",
       "    })\n",
       "</script>\n"
      ],
      "text/plain": [
       "<IPython.core.display.HTML object>"
      ]
     },
     "metadata": {},
     "output_type": "display_data"
    }
   ],
   "source": [
    "%%html\n",
    "<input id ='no3' type='text'></input>\n",
    "<button id = 'btn'>Click</button>\n",
    "<script>\n",
    "    var btnElement = document.querySelector('#btn');\n",
    "    btnElement.addEventListener('click',function(){\n",
    "        var msg = document.querySelector('#no3').value;\n",
    "        console.log(msg);\n",
    "    })\n",
    "</script>"
   ]
  },
  {
   "cell_type": "markdown",
   "id": "b46baeff",
   "metadata": {},
   "source": [
    "### jQuery\n",
    "- javascript의 element, event를 쉽게 다룰 수 있도록 도와줌\n",
    "- 장점 : 이벤트 핸들링, Document 변경, Ajax 통신 편리"
   ]
  },
  {
   "cell_type": "code",
   "execution_count": 17,
   "id": "92084414",
   "metadata": {},
   "outputs": [
    {
     "data": {
      "text/html": [
       "<p id='kt-txt'>KT Aivle</p>\n",
       "<input id='no4' type='text'></input>\n",
       "<button id='btn1'>Click</button>\n",
       "<button id='btn2'>Show</button>\n",
       "<button id='btn3'>Hide</button>\n",
       "<script src = 'https://cdnjs.cloudflare.com/ajax/libs/jquery/3.7.1/jquery.min.js'>\n",
       "</script>\n",
       "<script>\n",
       "    $('#btn1').on('click', function(){\n",
       "        var msg = $('#no4').val();\n",
       "        $('#kt-txt').text(msg);\n",
       "    })\n",
       "    $('#btn2').on('click', function(){\n",
       "        var msg = $('#no4').val();\n",
       "        $('#kt-txt').show();\n",
       "    })\n",
       "    $('#btn3').on('click', function(){\n",
       "        var msg = $('#no4').val();\n",
       "        $('#kt-txt').hide();\n",
       "    })\n",
       "    \n",
       "</script>\n"
      ],
      "text/plain": [
       "<IPython.core.display.HTML object>"
      ]
     },
     "metadata": {},
     "output_type": "display_data"
    }
   ],
   "source": [
    "%%html\n",
    "<p id='kt-txt'>KT Aivle</p>\n",
    "<input id='no4' type='text'></input>\n",
    "<button id='btn1'>Click</button>\n",
    "<button id='btn2'>Show</button>\n",
    "<button id='btn3'>Hide</button>\n",
    "<script src = 'https://cdnjs.cloudflare.com/ajax/libs/jquery/3.7.1/jquery.min.js'>\n",
    "</script>\n",
    "<script>\n",
    "    $('#btn1').on('click', function(){\n",
    "        var msg = $('#no4').val();\n",
    "        $('#kt-txt').text(msg);\n",
    "    })\n",
    "    $('#btn2').on('click', function(){\n",
    "        var msg = $('#no4').val();\n",
    "        $('#kt-txt').show();\n",
    "    })\n",
    "    $('#btn3').on('click', function(){\n",
    "        var msg = $('#no4').val();\n",
    "        $('#kt-txt').hide();\n",
    "    })\n",
    "</script>"
   ]
  },
  {
   "cell_type": "code",
   "execution_count": 19,
   "id": "cc7a3ff1",
   "metadata": {},
   "outputs": [
    {
     "data": {
      "text/html": [
       "<input type='text' class='addr' value='논현동'>\n",
       "<button class='get-data'>GetData</button>\n",
       "<script src = 'https://cdnjs.cloudflare.com/ajax/libs/jquery/3.7.1/jquery.min.js'>\n",
       "</script>\n",
       "<script>\n",
       "    $('.get-data').on('click',function(){\n",
       "        var addr = $('.addr').val();\n",
       "        console.log(addr);\n",
       "        var url = 'https://apis.zigbang.com/v2/search?leaseYn=N&q='+addr+'&serviceType=원룸';\n",
       "        $.getJSON(url,function(response){\n",
       "            console.log(response.items);\n",
       "        })\n",
       "    })\n",
       "</script>\n"
      ],
      "text/plain": [
       "<IPython.core.display.HTML object>"
      ]
     },
     "metadata": {},
     "output_type": "display_data"
    }
   ],
   "source": [
    "%%html\n",
    "<input type='text' class='addr' value='논현동'>\n",
    "<button class='get-data'>GetData</button>\n",
    "<script src = 'https://cdnjs.cloudflare.com/ajax/libs/jquery/3.7.1/jquery.min.js'>\n",
    "</script>\n",
    "<script>\n",
    "    $('.get-data').on('click',function(){\n",
    "        var addr = $('.addr').val();\n",
    "        console.log(addr);\n",
    "        var url = 'https://apis.zigbang.com/v2/search?leaseYn=N&q='+addr+'&serviceType=원룸';\n",
    "        $.getJSON(url,function(response){\n",
    "            console.log(response.items);\n",
    "        })\n",
    "    })\n",
    "</script>"
   ]
  },
  {
   "cell_type": "code",
   "execution_count": null,
   "id": "b62d0edd",
   "metadata": {},
   "outputs": [],
   "source": []
  }
 ],
 "metadata": {
  "kernelspec": {
   "display_name": "Python 3 (ipykernel)",
   "language": "python",
   "name": "python3"
  },
  "language_info": {
   "codemirror_mode": {
    "name": "ipython",
    "version": 3
   },
   "file_extension": ".py",
   "mimetype": "text/x-python",
   "name": "python",
   "nbconvert_exporter": "python",
   "pygments_lexer": "ipython3",
   "version": "3.11.3"
  }
 },
 "nbformat": 4,
 "nbformat_minor": 5
}
